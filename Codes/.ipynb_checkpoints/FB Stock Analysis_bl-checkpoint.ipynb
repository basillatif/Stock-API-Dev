{
 "cells": [
  {
   "cell_type": "code",
   "execution_count": 2,
   "metadata": {
    "scrolled": true
   },
   "outputs": [
    {
     "data": {
      "text/plain": [
       "'3.1.0'"
      ]
     },
     "execution_count": 2,
     "metadata": {},
     "output_type": "execute_result"
    }
   ],
   "source": [
    "import pandas as pd\n",
    "import numpy as np\n",
    "import matplotlib.pyplot as plt\n",
    "from matplotlib import style\n",
    "# Adjusting the size of matplotlib\n",
    "import matplotlib as mpl\n",
    "mpl.rc('figure', figsize=(8, 7))\n",
    "mpl.__version__\n"
   ]
  },
  {
   "cell_type": "code",
   "execution_count": 3,
   "metadata": {},
   "outputs": [],
   "source": [
    "#Following code from https://towardsdatascience.com/financial-analytics-exploratory-data-analysis-of-stock-data-d98cbadf98b9"
   ]
  },
  {
   "cell_type": "code",
   "execution_count": 4,
   "metadata": {
    "scrolled": true
   },
   "outputs": [
    {
     "data": {
      "text/html": [
       "<div>\n",
       "<style scoped>\n",
       "    .dataframe tbody tr th:only-of-type {\n",
       "        vertical-align: middle;\n",
       "    }\n",
       "\n",
       "    .dataframe tbody tr th {\n",
       "        vertical-align: top;\n",
       "    }\n",
       "\n",
       "    .dataframe thead th {\n",
       "        text-align: right;\n",
       "    }\n",
       "</style>\n",
       "<table border=\"1\" class=\"dataframe\">\n",
       "  <thead>\n",
       "    <tr style=\"text-align: right;\">\n",
       "      <th></th>\n",
       "      <th>Date</th>\n",
       "      <th>Open</th>\n",
       "      <th>High</th>\n",
       "      <th>Low</th>\n",
       "      <th>Close</th>\n",
       "      <th>Volume</th>\n",
       "      <th>Ex-Dividend</th>\n",
       "      <th>Split Ratio</th>\n",
       "      <th>Adj. Open</th>\n",
       "      <th>Adj. High</th>\n",
       "      <th>Adj. Low</th>\n",
       "      <th>Adj. Close</th>\n",
       "      <th>Adj. Volume</th>\n",
       "    </tr>\n",
       "  </thead>\n",
       "  <tbody>\n",
       "    <tr>\n",
       "      <th>1353</th>\n",
       "      <td>2012-11-07</td>\n",
       "      <td>20.85</td>\n",
       "      <td>20.95</td>\n",
       "      <td>20.37</td>\n",
       "      <td>20.4700</td>\n",
       "      <td>33396800.0</td>\n",
       "      <td>0.0</td>\n",
       "      <td>1.0</td>\n",
       "      <td>20.85</td>\n",
       "      <td>20.95</td>\n",
       "      <td>20.37</td>\n",
       "      <td>20.4700</td>\n",
       "      <td>33396800.0</td>\n",
       "    </tr>\n",
       "    <tr>\n",
       "      <th>1354</th>\n",
       "      <td>2012-11-06</td>\n",
       "      <td>21.24</td>\n",
       "      <td>21.37</td>\n",
       "      <td>20.99</td>\n",
       "      <td>21.1712</td>\n",
       "      <td>29062700.0</td>\n",
       "      <td>0.0</td>\n",
       "      <td>1.0</td>\n",
       "      <td>21.24</td>\n",
       "      <td>21.37</td>\n",
       "      <td>20.99</td>\n",
       "      <td>21.1712</td>\n",
       "      <td>29062700.0</td>\n",
       "    </tr>\n",
       "    <tr>\n",
       "      <th>1355</th>\n",
       "      <td>2012-11-05</td>\n",
       "      <td>21.10</td>\n",
       "      <td>21.48</td>\n",
       "      <td>20.92</td>\n",
       "      <td>21.2500</td>\n",
       "      <td>31806700.0</td>\n",
       "      <td>0.0</td>\n",
       "      <td>1.0</td>\n",
       "      <td>21.10</td>\n",
       "      <td>21.48</td>\n",
       "      <td>20.92</td>\n",
       "      <td>21.2500</td>\n",
       "      <td>31806700.0</td>\n",
       "    </tr>\n",
       "    <tr>\n",
       "      <th>1356</th>\n",
       "      <td>2012-11-02</td>\n",
       "      <td>21.26</td>\n",
       "      <td>21.69</td>\n",
       "      <td>21.07</td>\n",
       "      <td>21.1800</td>\n",
       "      <td>38344400.0</td>\n",
       "      <td>0.0</td>\n",
       "      <td>1.0</td>\n",
       "      <td>21.26</td>\n",
       "      <td>21.69</td>\n",
       "      <td>21.07</td>\n",
       "      <td>21.1800</td>\n",
       "      <td>38344400.0</td>\n",
       "    </tr>\n",
       "    <tr>\n",
       "      <th>1357</th>\n",
       "      <td>2012-11-01</td>\n",
       "      <td>21.08</td>\n",
       "      <td>21.44</td>\n",
       "      <td>21.01</td>\n",
       "      <td>21.2100</td>\n",
       "      <td>37713900.0</td>\n",
       "      <td>0.0</td>\n",
       "      <td>1.0</td>\n",
       "      <td>21.08</td>\n",
       "      <td>21.44</td>\n",
       "      <td>21.01</td>\n",
       "      <td>21.2100</td>\n",
       "      <td>37713900.0</td>\n",
       "    </tr>\n",
       "  </tbody>\n",
       "</table>\n",
       "</div>"
      ],
      "text/plain": [
       "            Date   Open   High    Low    Close      Volume  Ex-Dividend  \\\n",
       "1353  2012-11-07  20.85  20.95  20.37  20.4700  33396800.0          0.0   \n",
       "1354  2012-11-06  21.24  21.37  20.99  21.1712  29062700.0          0.0   \n",
       "1355  2012-11-05  21.10  21.48  20.92  21.2500  31806700.0          0.0   \n",
       "1356  2012-11-02  21.26  21.69  21.07  21.1800  38344400.0          0.0   \n",
       "1357  2012-11-01  21.08  21.44  21.01  21.2100  37713900.0          0.0   \n",
       "\n",
       "      Split Ratio  Adj. Open  Adj. High  Adj. Low  Adj. Close  Adj. Volume  \n",
       "1353          1.0      20.85      20.95     20.37     20.4700   33396800.0  \n",
       "1354          1.0      21.24      21.37     20.99     21.1712   29062700.0  \n",
       "1355          1.0      21.10      21.48     20.92     21.2500   31806700.0  \n",
       "1356          1.0      21.26      21.69     21.07     21.1800   38344400.0  \n",
       "1357          1.0      21.08      21.44     21.01     21.2100   37713900.0  "
      ]
     },
     "execution_count": 4,
     "metadata": {},
     "output_type": "execute_result"
    }
   ],
   "source": [
    "fb_df = pd.read_csv(\"/Users/basillatif/Desktop/Stock Data Project/fb_data.csv\")\n",
    "fb_df.head()\n",
    "fb_df.tail()"
   ]
  },
  {
   "cell_type": "code",
   "execution_count": 5,
   "metadata": {},
   "outputs": [
    {
     "name": "stdout",
     "output_type": "stream",
     "text": [
      "<class 'pandas.core.frame.DataFrame'>\n",
      "RangeIndex: 1358 entries, 0 to 1357\n",
      "Data columns (total 13 columns):\n",
      "Date           1358 non-null object\n",
      "Open           1358 non-null float64\n",
      "High           1358 non-null float64\n",
      "Low            1358 non-null float64\n",
      "Close          1358 non-null float64\n",
      "Volume         1358 non-null float64\n",
      "Ex-Dividend    1358 non-null float64\n",
      "Split Ratio    1358 non-null float64\n",
      "Adj. Open      1358 non-null float64\n",
      "Adj. High      1358 non-null float64\n",
      "Adj. Low       1358 non-null float64\n",
      "Adj. Close     1358 non-null float64\n",
      "Adj. Volume    1358 non-null float64\n",
      "dtypes: float64(12), object(1)\n",
      "memory usage: 138.0+ KB\n",
      "<class 'pandas.core.frame.DataFrame'>\n",
      "DatetimeIndex: 1358 entries, 2012-11-01 to 2018-03-27\n",
      "Data columns (total 13 columns):\n",
      "Date           1358 non-null datetime64[ns]\n",
      "Open           1358 non-null float64\n",
      "High           1358 non-null float64\n",
      "Low            1358 non-null float64\n",
      "Close          1358 non-null float64\n",
      "Volume         1358 non-null float64\n",
      "Ex-Dividend    1358 non-null float64\n",
      "Split Ratio    1358 non-null float64\n",
      "Adj. Open      1358 non-null float64\n",
      "Adj. High      1358 non-null float64\n",
      "Adj. Low       1358 non-null float64\n",
      "Adj. Close     1358 non-null float64\n",
      "Adj. Volume    1358 non-null float64\n",
      "dtypes: datetime64[ns](1), float64(12)\n",
      "memory usage: 148.5 KB\n"
     ]
    },
    {
     "data": {
      "text/html": [
       "<div>\n",
       "<style scoped>\n",
       "    .dataframe tbody tr th:only-of-type {\n",
       "        vertical-align: middle;\n",
       "    }\n",
       "\n",
       "    .dataframe tbody tr th {\n",
       "        vertical-align: top;\n",
       "    }\n",
       "\n",
       "    .dataframe thead th {\n",
       "        text-align: right;\n",
       "    }\n",
       "</style>\n",
       "<table border=\"1\" class=\"dataframe\">\n",
       "  <thead>\n",
       "    <tr style=\"text-align: right;\">\n",
       "      <th></th>\n",
       "      <th>Date</th>\n",
       "      <th>Open</th>\n",
       "      <th>High</th>\n",
       "      <th>Low</th>\n",
       "      <th>Close</th>\n",
       "      <th>Volume</th>\n",
       "      <th>Ex-Dividend</th>\n",
       "      <th>Split Ratio</th>\n",
       "      <th>Adj. Open</th>\n",
       "      <th>Adj. High</th>\n",
       "      <th>Adj. Low</th>\n",
       "      <th>Adj. Close</th>\n",
       "      <th>Adj. Volume</th>\n",
       "    </tr>\n",
       "    <tr>\n",
       "      <th>Date</th>\n",
       "      <th></th>\n",
       "      <th></th>\n",
       "      <th></th>\n",
       "      <th></th>\n",
       "      <th></th>\n",
       "      <th></th>\n",
       "      <th></th>\n",
       "      <th></th>\n",
       "      <th></th>\n",
       "      <th></th>\n",
       "      <th></th>\n",
       "      <th></th>\n",
       "      <th></th>\n",
       "    </tr>\n",
       "  </thead>\n",
       "  <tbody>\n",
       "    <tr>\n",
       "      <th>2012-11-01</th>\n",
       "      <td>2012-11-01</td>\n",
       "      <td>21.08</td>\n",
       "      <td>21.44</td>\n",
       "      <td>21.01</td>\n",
       "      <td>21.2100</td>\n",
       "      <td>37713900.0</td>\n",
       "      <td>0.0</td>\n",
       "      <td>1.0</td>\n",
       "      <td>21.08</td>\n",
       "      <td>21.44</td>\n",
       "      <td>21.01</td>\n",
       "      <td>21.2100</td>\n",
       "      <td>37713900.0</td>\n",
       "    </tr>\n",
       "    <tr>\n",
       "      <th>2012-11-02</th>\n",
       "      <td>2012-11-02</td>\n",
       "      <td>21.26</td>\n",
       "      <td>21.69</td>\n",
       "      <td>21.07</td>\n",
       "      <td>21.1800</td>\n",
       "      <td>38344400.0</td>\n",
       "      <td>0.0</td>\n",
       "      <td>1.0</td>\n",
       "      <td>21.26</td>\n",
       "      <td>21.69</td>\n",
       "      <td>21.07</td>\n",
       "      <td>21.1800</td>\n",
       "      <td>38344400.0</td>\n",
       "    </tr>\n",
       "    <tr>\n",
       "      <th>2012-11-05</th>\n",
       "      <td>2012-11-05</td>\n",
       "      <td>21.10</td>\n",
       "      <td>21.48</td>\n",
       "      <td>20.92</td>\n",
       "      <td>21.2500</td>\n",
       "      <td>31806700.0</td>\n",
       "      <td>0.0</td>\n",
       "      <td>1.0</td>\n",
       "      <td>21.10</td>\n",
       "      <td>21.48</td>\n",
       "      <td>20.92</td>\n",
       "      <td>21.2500</td>\n",
       "      <td>31806700.0</td>\n",
       "    </tr>\n",
       "    <tr>\n",
       "      <th>2012-11-06</th>\n",
       "      <td>2012-11-06</td>\n",
       "      <td>21.24</td>\n",
       "      <td>21.37</td>\n",
       "      <td>20.99</td>\n",
       "      <td>21.1712</td>\n",
       "      <td>29062700.0</td>\n",
       "      <td>0.0</td>\n",
       "      <td>1.0</td>\n",
       "      <td>21.24</td>\n",
       "      <td>21.37</td>\n",
       "      <td>20.99</td>\n",
       "      <td>21.1712</td>\n",
       "      <td>29062700.0</td>\n",
       "    </tr>\n",
       "    <tr>\n",
       "      <th>2012-11-07</th>\n",
       "      <td>2012-11-07</td>\n",
       "      <td>20.85</td>\n",
       "      <td>20.95</td>\n",
       "      <td>20.37</td>\n",
       "      <td>20.4700</td>\n",
       "      <td>33396800.0</td>\n",
       "      <td>0.0</td>\n",
       "      <td>1.0</td>\n",
       "      <td>20.85</td>\n",
       "      <td>20.95</td>\n",
       "      <td>20.37</td>\n",
       "      <td>20.4700</td>\n",
       "      <td>33396800.0</td>\n",
       "    </tr>\n",
       "  </tbody>\n",
       "</table>\n",
       "</div>"
      ],
      "text/plain": [
       "                 Date   Open   High    Low    Close      Volume  Ex-Dividend  \\\n",
       "Date                                                                           \n",
       "2012-11-01 2012-11-01  21.08  21.44  21.01  21.2100  37713900.0          0.0   \n",
       "2012-11-02 2012-11-02  21.26  21.69  21.07  21.1800  38344400.0          0.0   \n",
       "2012-11-05 2012-11-05  21.10  21.48  20.92  21.2500  31806700.0          0.0   \n",
       "2012-11-06 2012-11-06  21.24  21.37  20.99  21.1712  29062700.0          0.0   \n",
       "2012-11-07 2012-11-07  20.85  20.95  20.37  20.4700  33396800.0          0.0   \n",
       "\n",
       "            Split Ratio  Adj. Open  Adj. High  Adj. Low  Adj. Close  \\\n",
       "Date                                                                  \n",
       "2012-11-01          1.0      21.08      21.44     21.01     21.2100   \n",
       "2012-11-02          1.0      21.26      21.69     21.07     21.1800   \n",
       "2012-11-05          1.0      21.10      21.48     20.92     21.2500   \n",
       "2012-11-06          1.0      21.24      21.37     20.99     21.1712   \n",
       "2012-11-07          1.0      20.85      20.95     20.37     20.4700   \n",
       "\n",
       "            Adj. Volume  \n",
       "Date                     \n",
       "2012-11-01   37713900.0  \n",
       "2012-11-02   38344400.0  \n",
       "2012-11-05   31806700.0  \n",
       "2012-11-06   29062700.0  \n",
       "2012-11-07   33396800.0  "
      ]
     },
     "execution_count": 5,
     "metadata": {},
     "output_type": "execute_result"
    }
   ],
   "source": [
    "fb_df.info()\n",
    "fb_df['Date'] = pd.to_datetime(fb_df['Date'])\n",
    "fb_df.index = fb_df['Date']\n",
    "fb_df = fb_df.sort_index()\n",
    "fb_df.info()\n",
    "fb_df.head()"
   ]
  },
  {
   "cell_type": "code",
   "execution_count": 6,
   "metadata": {},
   "outputs": [
    {
     "data": {
      "image/png": "[encoded data removed]",
      "text/plain": [
       "<Figure size 432x288 with 1 Axes>"
      ]
     },
     "metadata": {
      "needs_background": "light"
     },
     "output_type": "display_data"
    }
   ],
   "source": [
    "fb_boxplot = fb_df.boxplot(column='Close')"
   ]
  },
  {
   "cell_type": "code",
   "execution_count": 9,
   "metadata": {},
   "outputs": [
    {
     "data": {
      "text/plain": [
       "Date            2013-07-25\n",
       "Open                33.545\n",
       "High                 34.88\n",
       "Low                  32.75\n",
       "Close               34.359\n",
       "Volume         3.65458e+08\n",
       "Ex-Dividend              0\n",
       "Split Ratio              1\n",
       "Adj. Open           33.545\n",
       "Adj. High            34.88\n",
       "Adj. Low             32.75\n",
       "Adj. Close          34.359\n",
       "Adj. Volume    3.65458e+08\n",
       "Name: 1175, dtype: object"
      ]
     },
     "execution_count": 9,
     "metadata": {},
     "output_type": "execute_result"
    },
    {
     "data": {
      "image/png": "[encoded data removed]",
      "text/plain": [
       "<Figure size 432x288 with 1 Axes>"
      ]
     },
     "metadata": {
      "needs_background": "light"
     },
     "output_type": "display_data"
    }
   ],
   "source": [
    "fb_boxplot = fb_df.boxplot(column='Volume')\n",
    "fb_df['Volume'].idxmax()\n",
    "fb_df.loc[1175]\n",
    "#This date was Facebook's strongest quarter with 1.8 billion revenue, strong growth in mobile ad revenue "
   ]
  },
  {
   "cell_type": "code",
   "execution_count": 8,
   "metadata": {},
   "outputs": [
    {
     "data": {
      "text/plain": [
       "(array([734503., 734869., 735234., 735599., 735964., 736330., 736695.]),\n",
       " <a list of 7 Text xticklabel objects>)"
      ]
     },
     "execution_count": 8,
     "metadata": {},
     "output_type": "execute_result"
    },
    {
     "data": {
      "image/png": "[encoded data removed]",
      "text/plain": [
       "<Figure size 1440x576 with 1 Axes>"
      ]
     },
     "metadata": {
      "needs_background": "light"
     },
     "output_type": "display_data"
    }
   ],
   "source": [
    "plt.figure(figsize=(20,8))\n",
    "plt.plot('Date','Close', data=fb_df)\n",
    "plt.xlabel('Date')\n",
    "plt.ylabel('Close Price')\n",
    "plt.xticks(rotation=45)"
   ]
  },
  {
   "cell_type": "code",
   "execution_count": 9,
   "metadata": {},
   "outputs": [
    {
     "data": {
      "text/html": [
       "<div>\n",
       "<style scoped>\n",
       "    .dataframe tbody tr th:only-of-type {\n",
       "        vertical-align: middle;\n",
       "    }\n",
       "\n",
       "    .dataframe tbody tr th {\n",
       "        vertical-align: top;\n",
       "    }\n",
       "\n",
       "    .dataframe thead th {\n",
       "        text-align: right;\n",
       "    }\n",
       "</style>\n",
       "<table border=\"1\" class=\"dataframe\">\n",
       "  <thead>\n",
       "    <tr style=\"text-align: right;\">\n",
       "      <th></th>\n",
       "      <th>Date</th>\n",
       "      <th>Open</th>\n",
       "      <th>High</th>\n",
       "      <th>Low</th>\n",
       "      <th>Close</th>\n",
       "      <th>Volume</th>\n",
       "      <th>Ex-Dividend</th>\n",
       "      <th>Split Ratio</th>\n",
       "      <th>Adj. Open</th>\n",
       "      <th>Adj. High</th>\n",
       "      <th>Adj. Low</th>\n",
       "      <th>Adj. Close</th>\n",
       "      <th>Adj. Volume</th>\n",
       "      <th>Daily Lag</th>\n",
       "    </tr>\n",
       "    <tr>\n",
       "      <th>Date</th>\n",
       "      <th></th>\n",
       "      <th></th>\n",
       "      <th></th>\n",
       "      <th></th>\n",
       "      <th></th>\n",
       "      <th></th>\n",
       "      <th></th>\n",
       "      <th></th>\n",
       "      <th></th>\n",
       "      <th></th>\n",
       "      <th></th>\n",
       "      <th></th>\n",
       "      <th></th>\n",
       "      <th></th>\n",
       "    </tr>\n",
       "  </thead>\n",
       "  <tbody>\n",
       "    <tr>\n",
       "      <th>2012-11-01</th>\n",
       "      <td>2012-11-01</td>\n",
       "      <td>21.08</td>\n",
       "      <td>21.44</td>\n",
       "      <td>21.01</td>\n",
       "      <td>21.2100</td>\n",
       "      <td>37713900.0</td>\n",
       "      <td>0.0</td>\n",
       "      <td>1.0</td>\n",
       "      <td>21.08</td>\n",
       "      <td>21.44</td>\n",
       "      <td>21.01</td>\n",
       "      <td>21.2100</td>\n",
       "      <td>37713900.0</td>\n",
       "      <td>NaN</td>\n",
       "    </tr>\n",
       "    <tr>\n",
       "      <th>2012-11-02</th>\n",
       "      <td>2012-11-02</td>\n",
       "      <td>21.26</td>\n",
       "      <td>21.69</td>\n",
       "      <td>21.07</td>\n",
       "      <td>21.1800</td>\n",
       "      <td>38344400.0</td>\n",
       "      <td>0.0</td>\n",
       "      <td>1.0</td>\n",
       "      <td>21.26</td>\n",
       "      <td>21.69</td>\n",
       "      <td>21.07</td>\n",
       "      <td>21.1800</td>\n",
       "      <td>38344400.0</td>\n",
       "      <td>21.2100</td>\n",
       "    </tr>\n",
       "    <tr>\n",
       "      <th>2012-11-05</th>\n",
       "      <td>2012-11-05</td>\n",
       "      <td>21.10</td>\n",
       "      <td>21.48</td>\n",
       "      <td>20.92</td>\n",
       "      <td>21.2500</td>\n",
       "      <td>31806700.0</td>\n",
       "      <td>0.0</td>\n",
       "      <td>1.0</td>\n",
       "      <td>21.10</td>\n",
       "      <td>21.48</td>\n",
       "      <td>20.92</td>\n",
       "      <td>21.2500</td>\n",
       "      <td>31806700.0</td>\n",
       "      <td>21.1800</td>\n",
       "    </tr>\n",
       "    <tr>\n",
       "      <th>2012-11-06</th>\n",
       "      <td>2012-11-06</td>\n",
       "      <td>21.24</td>\n",
       "      <td>21.37</td>\n",
       "      <td>20.99</td>\n",
       "      <td>21.1712</td>\n",
       "      <td>29062700.0</td>\n",
       "      <td>0.0</td>\n",
       "      <td>1.0</td>\n",
       "      <td>21.24</td>\n",
       "      <td>21.37</td>\n",
       "      <td>20.99</td>\n",
       "      <td>21.1712</td>\n",
       "      <td>29062700.0</td>\n",
       "      <td>21.2500</td>\n",
       "    </tr>\n",
       "    <tr>\n",
       "      <th>2012-11-07</th>\n",
       "      <td>2012-11-07</td>\n",
       "      <td>20.85</td>\n",
       "      <td>20.95</td>\n",
       "      <td>20.37</td>\n",
       "      <td>20.4700</td>\n",
       "      <td>33396800.0</td>\n",
       "      <td>0.0</td>\n",
       "      <td>1.0</td>\n",
       "      <td>20.85</td>\n",
       "      <td>20.95</td>\n",
       "      <td>20.37</td>\n",
       "      <td>20.4700</td>\n",
       "      <td>33396800.0</td>\n",
       "      <td>21.1712</td>\n",
       "    </tr>\n",
       "  </tbody>\n",
       "</table>\n",
       "</div>"
      ],
      "text/plain": [
       "                 Date   Open   High    Low    Close      Volume  Ex-Dividend  \\\n",
       "Date                                                                           \n",
       "2012-11-01 2012-11-01  21.08  21.44  21.01  21.2100  37713900.0          0.0   \n",
       "2012-11-02 2012-11-02  21.26  21.69  21.07  21.1800  38344400.0          0.0   \n",
       "2012-11-05 2012-11-05  21.10  21.48  20.92  21.2500  31806700.0          0.0   \n",
       "2012-11-06 2012-11-06  21.24  21.37  20.99  21.1712  29062700.0          0.0   \n",
       "2012-11-07 2012-11-07  20.85  20.95  20.37  20.4700  33396800.0          0.0   \n",
       "\n",
       "            Split Ratio  Adj. Open  Adj. High  Adj. Low  Adj. Close  \\\n",
       "Date                                                                  \n",
       "2012-11-01          1.0      21.08      21.44     21.01     21.2100   \n",
       "2012-11-02          1.0      21.26      21.69     21.07     21.1800   \n",
       "2012-11-05          1.0      21.10      21.48     20.92     21.2500   \n",
       "2012-11-06          1.0      21.24      21.37     20.99     21.1712   \n",
       "2012-11-07          1.0      20.85      20.95     20.37     20.4700   \n",
       "\n",
       "            Adj. Volume  Daily Lag  \n",
       "Date                                \n",
       "2012-11-01   37713900.0        NaN  \n",
       "2012-11-02   38344400.0    21.2100  \n",
       "2012-11-05   31806700.0    21.1800  \n",
       "2012-11-06   29062700.0    21.2500  \n",
       "2012-11-07   33396800.0    21.1712  "
      ]
     },
     "execution_count": 9,
     "metadata": {},
     "output_type": "execute_result"
    }
   ],
   "source": [
    "#Creating a daily lag column \n",
    "fb_df['Daily Lag'] = fb_df['Close'].shift(1)\n",
    "fb_df.head()\n"
   ]
  },
  {
   "cell_type": "code",
   "execution_count": 10,
   "metadata": {},
   "outputs": [
    {
     "data": {
      "text/html": [
       "<div>\n",
       "<style scoped>\n",
       "    .dataframe tbody tr th:only-of-type {\n",
       "        vertical-align: middle;\n",
       "    }\n",
       "\n",
       "    .dataframe tbody tr th {\n",
       "        vertical-align: top;\n",
       "    }\n",
       "\n",
       "    .dataframe thead th {\n",
       "        text-align: right;\n",
       "    }\n",
       "</style>\n",
       "<table border=\"1\" class=\"dataframe\">\n",
       "  <thead>\n",
       "    <tr style=\"text-align: right;\">\n",
       "      <th></th>\n",
       "      <th>Date</th>\n",
       "      <th>Open</th>\n",
       "      <th>High</th>\n",
       "      <th>Low</th>\n",
       "      <th>Close</th>\n",
       "      <th>Volume</th>\n",
       "      <th>Ex-Dividend</th>\n",
       "      <th>Split Ratio</th>\n",
       "      <th>Adj. Open</th>\n",
       "      <th>Adj. High</th>\n",
       "      <th>Adj. Low</th>\n",
       "      <th>Adj. Close</th>\n",
       "      <th>Adj. Volume</th>\n",
       "      <th>Daily Lag</th>\n",
       "      <th>Daily Returns</th>\n",
       "    </tr>\n",
       "    <tr>\n",
       "      <th>Date</th>\n",
       "      <th></th>\n",
       "      <th></th>\n",
       "      <th></th>\n",
       "      <th></th>\n",
       "      <th></th>\n",
       "      <th></th>\n",
       "      <th></th>\n",
       "      <th></th>\n",
       "      <th></th>\n",
       "      <th></th>\n",
       "      <th></th>\n",
       "      <th></th>\n",
       "      <th></th>\n",
       "      <th></th>\n",
       "      <th></th>\n",
       "    </tr>\n",
       "  </thead>\n",
       "  <tbody>\n",
       "    <tr>\n",
       "      <th>2018-03-21</th>\n",
       "      <td>2018-03-21</td>\n",
       "      <td>164.80</td>\n",
       "      <td>173.40</td>\n",
       "      <td>163.30</td>\n",
       "      <td>169.39</td>\n",
       "      <td>105350867.0</td>\n",
       "      <td>0.0</td>\n",
       "      <td>1.0</td>\n",
       "      <td>164.80</td>\n",
       "      <td>173.40</td>\n",
       "      <td>163.30</td>\n",
       "      <td>169.39</td>\n",
       "      <td>105350867.0</td>\n",
       "      <td>168.15</td>\n",
       "      <td>-0.007320</td>\n",
       "    </tr>\n",
       "    <tr>\n",
       "      <th>2018-03-22</th>\n",
       "      <td>2018-03-22</td>\n",
       "      <td>166.13</td>\n",
       "      <td>170.27</td>\n",
       "      <td>163.72</td>\n",
       "      <td>164.89</td>\n",
       "      <td>73389988.0</td>\n",
       "      <td>0.0</td>\n",
       "      <td>1.0</td>\n",
       "      <td>166.13</td>\n",
       "      <td>170.27</td>\n",
       "      <td>163.72</td>\n",
       "      <td>164.89</td>\n",
       "      <td>73389988.0</td>\n",
       "      <td>169.39</td>\n",
       "      <td>0.027291</td>\n",
       "    </tr>\n",
       "    <tr>\n",
       "      <th>2018-03-23</th>\n",
       "      <td>2018-03-23</td>\n",
       "      <td>165.44</td>\n",
       "      <td>167.10</td>\n",
       "      <td>159.02</td>\n",
       "      <td>159.39</td>\n",
       "      <td>52306891.0</td>\n",
       "      <td>0.0</td>\n",
       "      <td>1.0</td>\n",
       "      <td>165.44</td>\n",
       "      <td>167.10</td>\n",
       "      <td>159.02</td>\n",
       "      <td>159.39</td>\n",
       "      <td>52306891.0</td>\n",
       "      <td>164.89</td>\n",
       "      <td>0.034507</td>\n",
       "    </tr>\n",
       "    <tr>\n",
       "      <th>2018-03-26</th>\n",
       "      <td>2018-03-26</td>\n",
       "      <td>160.82</td>\n",
       "      <td>161.10</td>\n",
       "      <td>149.02</td>\n",
       "      <td>160.06</td>\n",
       "      <td>125438294.0</td>\n",
       "      <td>0.0</td>\n",
       "      <td>1.0</td>\n",
       "      <td>160.82</td>\n",
       "      <td>161.10</td>\n",
       "      <td>149.02</td>\n",
       "      <td>160.06</td>\n",
       "      <td>125438294.0</td>\n",
       "      <td>159.39</td>\n",
       "      <td>-0.004186</td>\n",
       "    </tr>\n",
       "    <tr>\n",
       "      <th>2018-03-27</th>\n",
       "      <td>2018-03-27</td>\n",
       "      <td>156.31</td>\n",
       "      <td>162.85</td>\n",
       "      <td>150.75</td>\n",
       "      <td>152.19</td>\n",
       "      <td>76787884.0</td>\n",
       "      <td>0.0</td>\n",
       "      <td>1.0</td>\n",
       "      <td>156.31</td>\n",
       "      <td>162.85</td>\n",
       "      <td>150.75</td>\n",
       "      <td>152.19</td>\n",
       "      <td>76787884.0</td>\n",
       "      <td>160.06</td>\n",
       "      <td>0.051712</td>\n",
       "    </tr>\n",
       "  </tbody>\n",
       "</table>\n",
       "</div>"
      ],
      "text/plain": [
       "                 Date    Open    High     Low   Close       Volume  \\\n",
       "Date                                                                 \n",
       "2018-03-21 2018-03-21  164.80  173.40  163.30  169.39  105350867.0   \n",
       "2018-03-22 2018-03-22  166.13  170.27  163.72  164.89   73389988.0   \n",
       "2018-03-23 2018-03-23  165.44  167.10  159.02  159.39   52306891.0   \n",
       "2018-03-26 2018-03-26  160.82  161.10  149.02  160.06  125438294.0   \n",
       "2018-03-27 2018-03-27  156.31  162.85  150.75  152.19   76787884.0   \n",
       "\n",
       "            Ex-Dividend  Split Ratio  Adj. Open  Adj. High  Adj. Low  \\\n",
       "Date                                                                   \n",
       "2018-03-21          0.0          1.0     164.80     173.40    163.30   \n",
       "2018-03-22          0.0          1.0     166.13     170.27    163.72   \n",
       "2018-03-23          0.0          1.0     165.44     167.10    159.02   \n",
       "2018-03-26          0.0          1.0     160.82     161.10    149.02   \n",
       "2018-03-27          0.0          1.0     156.31     162.85    150.75   \n",
       "\n",
       "            Adj. Close  Adj. Volume  Daily Lag  Daily Returns  \n",
       "Date                                                           \n",
       "2018-03-21      169.39  105350867.0     168.15      -0.007320  \n",
       "2018-03-22      164.89   73389988.0     169.39       0.027291  \n",
       "2018-03-23      159.39   52306891.0     164.89       0.034507  \n",
       "2018-03-26      160.06  125438294.0     159.39      -0.004186  \n",
       "2018-03-27      152.19   76787884.0     160.06       0.051712  "
      ]
     },
     "execution_count": 10,
     "metadata": {},
     "output_type": "execute_result"
    }
   ],
   "source": [
    "#Create the daily returns columns\n",
    "fb_df['Daily Returns'] = (fb_df['Daily Lag']/fb_df['Close']) - 1\n",
    "fb_df.head()\n",
    "fb_df.tail()"
   ]
  },
  {
   "cell_type": "code",
   "execution_count": 11,
   "metadata": {},
   "outputs": [
    {
     "name": "stdout",
     "output_type": "stream",
     "text": [
      "mean = -0.0012454931201177912\n",
      "Std deviation = 0.020053384104518412\n"
     ]
    },
    {
     "data": {
      "text/plain": [
       "<matplotlib.axes._subplots.AxesSubplot at 0x11b96ccc0>"
      ]
     },
     "execution_count": 11,
     "metadata": {},
     "output_type": "execute_result"
    },
    {
     "data": {
      "image/png": "[encoded data removed]",
      "text/plain": [
       "<Figure size 432x288 with 1 Axes>"
      ]
     },
     "metadata": {
      "needs_background": "light"
     },
     "output_type": "display_data"
    }
   ],
   "source": [
    "mean = fb_df['Daily Returns'].mean()\n",
    "std = fb_df['Daily Returns'].std()\n",
    "print('mean =',mean)\n",
    "print('Std deviation =',std)\n",
    "fb_df['Daily Returns'].hist()"
   ]
  },
  {
   "cell_type": "code",
   "execution_count": 12,
   "metadata": {},
   "outputs": [
    {
     "data": {
      "text/plain": [
       "<matplotlib.lines.Line2D at 0x10a767710>"
      ]
     },
     "execution_count": 12,
     "metadata": {},
     "output_type": "execute_result"
    },
    {
     "data": {
      "image/png": "[encoded data removed]",
      "text/plain": [
       "<Figure size 432x288 with 1 Axes>"
      ]
     },
     "metadata": {
      "needs_background": "light"
     },
     "output_type": "display_data"
    }
   ],
   "source": [
    "fb_df['Daily Returns'].hist(bins=20)\n",
    "plt.axvline(mean,color='red',linestyle='dashed',linewidth=2)\n",
    "#to plot the std line we plot both the positive and negative values \n",
    "plt.axvline(std,color='g',linestyle='dashed',linewidth=2)\n",
    "plt.axvline(-std,color='g',linestyle='dashed',linewidth=2)"
   ]
  },
  {
   "cell_type": "code",
   "execution_count": 13,
   "metadata": {},
   "outputs": [
    {
     "data": {
      "text/plain": [
       "15.630518251648596"
      ]
     },
     "execution_count": 13,
     "metadata": {},
     "output_type": "execute_result"
    }
   ],
   "source": [
    "fb_df['Daily Returns'].kurtosis()\n",
    "#The kurtosis result shows that the data is highly skewed i.e. > 1"
   ]
  },
  {
   "cell_type": "code",
   "execution_count": 14,
   "metadata": {},
   "outputs": [
    {
     "name": "stdout",
     "output_type": "stream",
     "text": [
      "<class 'pandas.core.series.Series'>\n",
      "Date\n",
      "2012-11-01     21.2100\n",
      "2012-11-02     21.1800\n",
      "2012-11-05     21.2500\n",
      "2012-11-06     21.1712\n",
      "2012-11-07     20.4700\n",
      "2012-11-08     19.9900\n",
      "2012-11-09     19.2100\n",
      "2012-11-12     20.0700\n",
      "2012-11-13     19.8600\n",
      "2012-11-14     22.3600\n",
      "2012-11-15     22.1700\n",
      "2012-11-16     23.5607\n",
      "2012-11-19     22.9200\n",
      "2012-11-20     23.1000\n",
      "2012-11-21     24.3200\n",
      "2012-11-23     23.9980\n",
      "2012-11-26     25.9400\n",
      "2012-11-27     26.1500\n",
      "2012-11-28     26.3600\n",
      "2012-11-29     27.3200\n",
      "2012-11-30     28.0000\n",
      "2012-12-03     27.0400\n",
      "2012-12-04     27.4600\n",
      "2012-12-05     27.7100\n",
      "2012-12-06     26.9700\n",
      "2012-12-07     27.4850\n",
      "2012-12-10     27.8400\n",
      "2012-12-11     27.9800\n",
      "2012-12-12     27.5801\n",
      "2012-12-13     28.2400\n",
      "                ...   \n",
      "2018-02-13    173.1500\n",
      "2018-02-14    179.5200\n",
      "2018-02-15    179.9600\n",
      "2018-02-16    177.3600\n",
      "2018-02-20    176.0100\n",
      "2018-02-21    177.9100\n",
      "2018-02-22    178.9900\n",
      "2018-02-23    183.2900\n",
      "2018-02-26    184.9300\n",
      "2018-02-27    181.4600\n",
      "2018-02-28    178.3200\n",
      "2018-03-01    175.9400\n",
      "2018-03-02    176.6200\n",
      "2018-03-05    180.4000\n",
      "2018-03-06    179.7800\n",
      "2018-03-07    183.7100\n",
      "2018-03-08    182.3400\n",
      "2018-03-09    185.2300\n",
      "2018-03-12    184.7600\n",
      "2018-03-13    181.8800\n",
      "2018-03-14    184.1900\n",
      "2018-03-15    183.8600\n",
      "2018-03-16    185.0900\n",
      "2018-03-19    172.5600\n",
      "2018-03-20    168.1500\n",
      "2018-03-21    169.3900\n",
      "2018-03-22    164.8900\n",
      "2018-03-23    159.3900\n",
      "2018-03-26    160.0600\n",
      "2018-03-27    152.1900\n",
      "Name: Close, Length: 1358, dtype: float64\n",
      "Date\n",
      "2012-11-01          NaN\n",
      "2012-11-02          NaN\n",
      "2012-11-05          NaN\n",
      "2012-11-06          NaN\n",
      "2012-11-07          NaN\n",
      "2012-11-08          NaN\n",
      "2012-11-09          NaN\n",
      "2012-11-12          NaN\n",
      "2012-11-13          NaN\n",
      "2012-11-14     20.67712\n",
      "2012-11-15     20.77312\n",
      "2012-11-16     21.01119\n",
      "2012-11-19     21.17819\n",
      "2012-11-20     21.37107\n",
      "2012-11-21     21.75607\n",
      "2012-11-23     22.15687\n",
      "2012-11-26     22.82987\n",
      "2012-11-27     23.43787\n",
      "2012-11-28     24.08787\n",
      "2012-11-29     24.58387\n",
      "2012-11-30     25.16687\n",
      "2012-12-03     25.51480\n",
      "2012-12-04     25.96880\n",
      "2012-12-05     26.42980\n",
      "2012-12-06     26.69480\n",
      "2012-12-07     27.04350\n",
      "2012-12-10     27.23350\n",
      "2012-12-11     27.41650\n",
      "2012-12-12     27.53851\n",
      "2012-12-13     27.63051\n",
      "                ...    \n",
      "2018-02-13    181.54899\n",
      "2018-02-14    180.81199\n",
      "2018-02-15    179.49899\n",
      "2018-02-16    178.20699\n",
      "2018-02-20    177.54299\n",
      "2018-02-21    176.80299\n",
      "2018-02-22    176.68399\n",
      "2018-02-23    177.85800\n",
      "2018-02-26    178.75300\n",
      "2018-02-27    179.25800\n",
      "2018-02-28    179.77500\n",
      "2018-03-01    179.41700\n",
      "2018-03-02    179.08300\n",
      "2018-03-05    179.38700\n",
      "2018-03-06    179.76400\n",
      "2018-03-07    180.34400\n",
      "2018-03-08    180.67900\n",
      "2018-03-09    180.87300\n",
      "2018-03-12    180.85600\n",
      "2018-03-13    180.89800\n",
      "2018-03-14    181.48500\n",
      "2018-03-15    182.27700\n",
      "2018-03-16    183.12400\n",
      "2018-03-19    182.34000\n",
      "2018-03-20    181.17700\n",
      "2018-03-21    179.74500\n",
      "2018-03-22    178.00000\n",
      "2018-03-23    175.41600\n",
      "2018-03-26    172.94600\n",
      "2018-03-27    169.97700\n",
      "Name: Close, Length: 1358, dtype: float64\n"
     ]
    }
   ],
   "source": [
    "#From https://towardsdatascience.com/in-12-minutes-stocks-analysis-with-pandas-and-scikit-learn-a8d8a7b50ee7\n",
    "#Coding the rolling mean \n",
    "close_px = fb_df['Close']\n",
    "print(type(close_px))\n",
    "mavg = close_px.rolling(window=10).mean()\n",
    "print(close_px)\n",
    "print(mavg)"
   ]
  },
  {
   "cell_type": "code",
   "execution_count": 15,
   "metadata": {},
   "outputs": [
    {
     "data": {
      "text/plain": [
       "<matplotlib.legend.Legend at 0x10a7671d0>"
      ]
     },
     "execution_count": 15,
     "metadata": {},
     "output_type": "execute_result"
    },
    {
     "data": {
      "image/png": "[encoded data removed]",
      "text/plain": [
       "<Figure size 1440x576 with 1 Axes>"
      ]
     },
     "metadata": {},
     "output_type": "display_data"
    }
   ],
   "source": [
    "# Adjusting the style of matplotlib\n",
    "style.use('ggplot')\n",
    "plt.figure(figsize=(20,8))\n",
    "close_px.plot(label='FB')\n",
    "mavg.plot(label='mavg')\n",
    "plt.legend()"
   ]
  },
  {
   "cell_type": "code",
   "execution_count": 16,
   "metadata": {},
   "outputs": [
    {
     "data": {
      "text/plain": [
       "<matplotlib.axes._subplots.AxesSubplot at 0x11c34bac8>"
      ]
     },
     "execution_count": 16,
     "metadata": {},
     "output_type": "execute_result"
    },
    {
     "data": {
      "image/png": "[encoded data removed]",
      "text/plain": [
       "<Figure size 432x288 with 1 Axes>"
      ]
     },
     "metadata": {},
     "output_type": "display_data"
    }
   ],
   "source": [
    "#Calculating return deviation\n",
    "returns = close_px / close_px.shift(1) - 1\n",
    "returns.plot(label='return')"
   ]
  },
  {
   "cell_type": "code",
   "execution_count": 17,
   "metadata": {},
   "outputs": [
    {
     "name": "stdout",
     "output_type": "stream",
     "text": [
      "            Adj. Close       Volume     HL_PCT  PCT_Change\n",
      "Date                                                      \n",
      "2012-11-01     21.2100   37713900.0   2.027346    0.616698\n",
      "2012-11-02     21.1800   38344400.0   2.927290   -0.376294\n",
      "2012-11-05     21.2500   31806700.0   2.635294    0.710900\n",
      "2012-11-06     21.1712   29062700.0   1.794891   -0.323917\n",
      "2012-11-07     20.4700   33396800.0   2.833415   -1.822542\n",
      "2012-11-08     19.9900   34254600.0   3.751876   -2.582846\n",
      "2012-11-09     19.2100   42295500.0   4.528891   -3.733400\n",
      "2012-11-12     20.0700   67349200.0   6.477329    4.804178\n",
      "2012-11-13     19.8600   71775100.0   2.769386    1.300689\n",
      "2012-11-14     22.3600  229751000.0  11.493739   11.243781\n",
      "2012-11-15     22.1700   78857700.0   3.834010   -0.760967\n",
      "2012-11-16     23.5607  107182200.0   7.427623    5.890787\n",
      "2012-11-19     22.9200   85021300.0   5.671902   -4.320601\n",
      "2012-11-20     23.1000   46655300.0   5.194805    1.627805\n",
      "2012-11-21     24.3200   89862400.0   6.085526    4.737295\n",
      "2012-11-23     23.9980   29520900.0   3.333611   -2.367779\n",
      "2012-11-26     25.9400  123865000.0   4.934464    4.030479\n",
      "2012-11-27     26.1500   85760600.0   3.977055    0.422427\n",
      "2012-11-28     26.3600   49205600.0   2.807284    1.619121\n",
      "2012-11-29     27.3200   88759700.0   4.978038    3.094340\n",
      "2012-11-30     28.0000  127049600.0   4.428571    2.714600\n",
      "2012-12-03     27.0400  123526100.0   7.026627   -3.428227\n",
      "2012-12-04     27.4600   72869200.0   3.932993    1.478197\n",
      "2012-12-05     27.7100   58976300.0   2.309636   -0.144144\n",
      "2012-12-06     26.9700   46001500.0   3.448276   -2.565029\n",
      "2012-12-07     27.4850   51751900.0   3.420047    1.533062\n",
      "2012-12-10     27.8400   50608500.0   3.843391    2.465955\n",
      "2012-12-11     27.9800   77099100.0   2.072909   -0.320627\n",
      "2012-12-12     27.5801   46704200.0   2.791868   -1.499643\n",
      "2012-12-13     28.2400   81051600.0   4.674221    2.355926\n",
      "...                ...          ...        ...         ...\n",
      "2018-02-13    173.1500   20880702.0   1.657522   -1.406446\n",
      "2018-02-14    179.5200   27963758.0   3.675412    3.499568\n",
      "2018-02-15    179.9600   20554092.0   2.033785   -0.299169\n",
      "2018-02-16    177.3600   20475445.0   2.018493   -0.910665\n",
      "2018-02-20    176.0100   20887317.0   1.613545    0.136542\n",
      "2018-02-21    177.9100   22844006.0   2.737339    0.679079\n",
      "2018-02-22    178.9900   17085490.0   1.564333    0.162283\n",
      "2018-02-23    183.2900   18621950.0   2.116864    1.884380\n",
      "2018-02-26    184.9300   17418814.0   1.317904    0.189620\n",
      "2018-02-27    181.4600   15649326.0   1.785517   -1.621036\n",
      "2018-02-28    178.3200   18208084.0   2.658143   -2.183214\n",
      "2018-03-01    175.9400   23201626.0   3.245425   -1.714988\n",
      "2018-03-02    176.6200   20025905.0   2.332692    1.921634\n",
      "2018-03-05    180.4000   16189280.0   2.914357    2.383655\n",
      "2018-03-06    179.7800   15086784.0   1.818890   -1.100231\n",
      "2018-03-07    183.7100   19097293.0   3.129933    2.780575\n",
      "2018-03-08    182.3400   15336555.0   1.617857   -0.664633\n",
      "2018-03-09    185.2300   17952177.0   1.241700    0.717742\n",
      "2018-03-12    184.7600   14873538.0   1.017536   -0.253739\n",
      "2018-03-13    181.8800   17742312.0   2.683088   -2.009590\n",
      "2018-03-14    184.1900   16426843.0   1.303002    0.870756\n",
      "2018-03-15    183.8600   15461869.0   0.984445    0.338354\n",
      "2018-03-16    185.0900   23090480.0   1.037333    0.325221\n",
      "2018-03-19    172.5600   86897749.0   4.120306   -2.513982\n",
      "2018-03-20    168.1500  128925534.0   4.906334    0.406043\n",
      "2018-03-21    169.3900  105350867.0   5.962572    2.785194\n",
      "2018-03-22    164.8900   73389988.0   3.972345   -0.746403\n",
      "2018-03-23    159.3900   52306891.0   5.069327   -3.656915\n",
      "2018-03-26    160.0600  125438294.0   7.547170   -0.472578\n",
      "2018-03-27    152.1900   76787884.0   7.950588   -2.635788\n",
      "\n",
      "[1358 rows x 4 columns]\n"
     ]
    }
   ],
   "source": [
    "#More Feature Engineering\n",
    "dfreg = fb_df.loc[:, ['Adj. Close', 'Volume']]\n",
    "dfreg['HL_PCT'] = (fb_df['High'] - fb_df['Low']) / fb_df['Close'] * 100.0\n",
    "dfreg['PCT_Change'] = (fb_df['Close'] -fb_df['Open']) / fb_df['Open'] * 100.0\n",
    "print(dfreg)"
   ]
  },
  {
   "cell_type": "code",
   "execution_count": 18,
   "metadata": {},
   "outputs": [
    {
     "data": {
      "text/plain": [
       "<matplotlib.axes._subplots.AxesSubplot at 0x11bb44208>"
      ]
     },
     "execution_count": 18,
     "metadata": {},
     "output_type": "execute_result"
    },
    {
     "data": {
      "image/png": "[encoded data removed]",
      "text/plain": [
       "<Figure size 432x288 with 1 Axes>"
      ]
     },
     "metadata": {},
     "output_type": "display_data"
    }
   ],
   "source": [
    "dfreg['PCT_Change'].hist()"
   ]
  },
  {
   "cell_type": "code",
   "execution_count": 20,
   "metadata": {},
   "outputs": [
    {
     "data": {
      "text/plain": [
       "<matplotlib.axes._subplots.AxesSubplot at 0x11bd8ad30>"
      ]
     },
     "execution_count": 20,
     "metadata": {},
     "output_type": "execute_result"
    },
    {
     "data": {
      "image/png": "[encoded data removed]",
      "text/plain": [
       "<Figure size 432x288 with 1 Axes>"
      ]
     },
     "metadata": {},
     "output_type": "display_data"
    }
   ],
   "source": [
    "dfreg['HL_PCT'].hist()"
   ]
  },
  {
   "cell_type": "code",
   "execution_count": null,
   "metadata": {},
   "outputs": [],
   "source": []
  }
 ],
 "metadata": {
  "kernelspec": {
   "display_name": "Python 3",
   "language": "python",
   "name": "python3"
  },
  "language_info": {
   "codemirror_mode": {
    "name": "ipython",
    "version": 3
   },
   "file_extension": ".py",
   "mimetype": "text/x-python",
   "name": "python",
   "nbconvert_exporter": "python",
   "pygments_lexer": "ipython3",
   "version": "3.7.3"
  }
 },
 "nbformat": 4,
 "nbformat_minor": 2
}
