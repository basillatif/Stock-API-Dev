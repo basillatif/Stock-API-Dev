{
 "cells": [
  {
   "cell_type": "code",
   "execution_count": 342,
   "metadata": {},
   "outputs": [],
   "source": [
    "#imports \n",
    "import datetime\n",
    "from pandas_datareader import data, wb\n",
    "from fbprophet import Prophet\n",
    "import pandas as pd \n",
    "import matplotlib.pyplot as plt\n",
    "from fbprophet.plot import add_changepoints_to_plot\n"
   ]
  },
  {
   "cell_type": "code",
   "execution_count": 343,
   "metadata": {},
   "outputs": [],
   "source": [
    "start = datetime.datetime(2018, 1, 1)\n",
    "end = datetime.datetime(2019, 12, 11)"
   ]
  },
  {
   "cell_type": "code",
   "execution_count": 344,
   "metadata": {},
   "outputs": [],
   "source": [
    "BAC = data.DataReader(\"BAC\", 'yahoo', start, end)\n",
    "AUPH = data.DataReader(\"AUPH\", 'yahoo', start, end)\n",
    "AMZN = data.DataReader(\"AMZN\", 'yahoo', start, end)"
   ]
  },
  {
   "cell_type": "code",
   "execution_count": 345,
   "metadata": {},
   "outputs": [],
   "source": [
    "AUPH[\"Date\"] = AUPH.index\n",
    "BAC[\"Date\"] = BAC.index\n",
    "AMZN[\"Date\"] = AMZN.index"
   ]
  },
  {
   "cell_type": "code",
   "execution_count": 346,
   "metadata": {},
   "outputs": [],
   "source": [
    "AUPH = AUPH.rename(columns = {'Date':'ds', 'Close' : 'y'})\n",
    "BAC = BAC.rename(columns = {'Date':'ds', 'Close' : 'y'})\n",
    "AMZN = AMZN.rename(columns = {'Date':'ds', 'Close' : 'y'})"
   ]
  },
  {
   "cell_type": "code",
   "execution_count": 347,
   "metadata": {},
   "outputs": [],
   "source": [
    "#bac_model = BAC[['ds', 'y']]"
   ]
  },
  {
   "cell_type": "code",
   "execution_count": 348,
   "metadata": {},
   "outputs": [],
   "source": [
    "#Create prophet object\n",
    "auph_model = AUPH[['ds', 'y']]\n",
    "AMZN_model = AMZN[['ds', 'y']]"
   ]
  },
  {
   "cell_type": "code",
   "execution_count": 351,
   "metadata": {},
   "outputs": [],
   "source": [
    "#Instantiating a new prophet object\n",
    "#Possible params: interval_width, changepoint_prior_scale\n",
    "#my_model = Prophet(changepoint_prior_scale=0.5)\n",
    "my_model = Prophet(changepoints=['2019-11-01'])"
   ]
  },
  {
   "cell_type": "code",
   "execution_count": 352,
   "metadata": {},
   "outputs": [
    {
     "name": "stderr",
     "output_type": "stream",
     "text": [
      "INFO:fbprophet:Disabling yearly seasonality. Run prophet with yearly_seasonality=True to override this.\n",
      "INFO:fbprophet:Disabling daily seasonality. Run prophet with daily_seasonality=True to override this.\n"
     ]
    },
    {
     "data": {
      "text/plain": [
       "<fbprophet.forecaster.Prophet at 0x1a2bb0e5f8>"
      ]
     },
     "execution_count": 352,
     "metadata": {},
     "output_type": "execute_result"
    }
   ],
   "source": [
    "#my_model.fit(auph_model)\n",
    "my_model.fit(auph_model)"
   ]
  },
  {
   "cell_type": "code",
   "execution_count": 353,
   "metadata": {},
   "outputs": [
    {
     "data": {
      "text/html": [
       "<div>\n",
       "<style scoped>\n",
       "    .dataframe tbody tr th:only-of-type {\n",
       "        vertical-align: middle;\n",
       "    }\n",
       "\n",
       "    .dataframe tbody tr th {\n",
       "        vertical-align: top;\n",
       "    }\n",
       "\n",
       "    .dataframe thead th {\n",
       "        text-align: right;\n",
       "    }\n",
       "</style>\n",
       "<table border=\"1\" class=\"dataframe\">\n",
       "  <thead>\n",
       "    <tr style=\"text-align: right;\">\n",
       "      <th></th>\n",
       "      <th>ds</th>\n",
       "    </tr>\n",
       "  </thead>\n",
       "  <tbody>\n",
       "    <tr>\n",
       "      <th>850</th>\n",
       "      <td>2020-12-06</td>\n",
       "    </tr>\n",
       "    <tr>\n",
       "      <th>851</th>\n",
       "      <td>2020-12-07</td>\n",
       "    </tr>\n",
       "    <tr>\n",
       "      <th>852</th>\n",
       "      <td>2020-12-08</td>\n",
       "    </tr>\n",
       "    <tr>\n",
       "      <th>853</th>\n",
       "      <td>2020-12-09</td>\n",
       "    </tr>\n",
       "    <tr>\n",
       "      <th>854</th>\n",
       "      <td>2020-12-10</td>\n",
       "    </tr>\n",
       "  </tbody>\n",
       "</table>\n",
       "</div>"
      ],
      "text/plain": [
       "            ds\n",
       "850 2020-12-06\n",
       "851 2020-12-07\n",
       "852 2020-12-08\n",
       "853 2020-12-09\n",
       "854 2020-12-10"
      ]
     },
     "execution_count": 353,
     "metadata": {},
     "output_type": "execute_result"
    }
   ],
   "source": [
    "future_dates = my_model.make_future_dataframe(periods=365)\n",
    "future_dates.tail()"
   ]
  },
  {
   "cell_type": "code",
   "execution_count": 354,
   "metadata": {
    "scrolled": true
   },
   "outputs": [
    {
     "data": {
      "text/html": [
       "<div>\n",
       "<style scoped>\n",
       "    .dataframe tbody tr th:only-of-type {\n",
       "        vertical-align: middle;\n",
       "    }\n",
       "\n",
       "    .dataframe tbody tr th {\n",
       "        vertical-align: top;\n",
       "    }\n",
       "\n",
       "    .dataframe thead th {\n",
       "        text-align: right;\n",
       "    }\n",
       "</style>\n",
       "<table border=\"1\" class=\"dataframe\">\n",
       "  <thead>\n",
       "    <tr style=\"text-align: right;\">\n",
       "      <th></th>\n",
       "      <th>ds</th>\n",
       "      <th>yhat</th>\n",
       "      <th>yhat_lower</th>\n",
       "      <th>yhat_upper</th>\n",
       "    </tr>\n",
       "  </thead>\n",
       "  <tbody>\n",
       "    <tr>\n",
       "      <th>0</th>\n",
       "      <td>2018-01-02</td>\n",
       "      <td>5.502916</td>\n",
       "      <td>4.204197</td>\n",
       "      <td>6.675456</td>\n",
       "    </tr>\n",
       "    <tr>\n",
       "      <th>1</th>\n",
       "      <td>2018-01-03</td>\n",
       "      <td>5.527132</td>\n",
       "      <td>4.208872</td>\n",
       "      <td>6.707436</td>\n",
       "    </tr>\n",
       "    <tr>\n",
       "      <th>2</th>\n",
       "      <td>2018-01-04</td>\n",
       "      <td>5.491289</td>\n",
       "      <td>4.281871</td>\n",
       "      <td>6.658213</td>\n",
       "    </tr>\n",
       "    <tr>\n",
       "      <th>3</th>\n",
       "      <td>2018-01-05</td>\n",
       "      <td>5.510656</td>\n",
       "      <td>4.371951</td>\n",
       "      <td>6.780093</td>\n",
       "    </tr>\n",
       "    <tr>\n",
       "      <th>4</th>\n",
       "      <td>2018-01-08</td>\n",
       "      <td>5.464078</td>\n",
       "      <td>4.207032</td>\n",
       "      <td>6.655913</td>\n",
       "    </tr>\n",
       "    <tr>\n",
       "      <th>...</th>\n",
       "      <td>...</td>\n",
       "      <td>...</td>\n",
       "      <td>...</td>\n",
       "      <td>...</td>\n",
       "    </tr>\n",
       "    <tr>\n",
       "      <th>850</th>\n",
       "      <td>2020-12-06</td>\n",
       "      <td>42.710877</td>\n",
       "      <td>29.081907</td>\n",
       "      <td>52.696955</td>\n",
       "    </tr>\n",
       "    <tr>\n",
       "      <th>851</th>\n",
       "      <td>2020-12-07</td>\n",
       "      <td>43.169253</td>\n",
       "      <td>28.645816</td>\n",
       "      <td>53.267177</td>\n",
       "    </tr>\n",
       "    <tr>\n",
       "      <th>852</th>\n",
       "      <td>2020-12-08</td>\n",
       "      <td>43.306413</td>\n",
       "      <td>28.302530</td>\n",
       "      <td>53.704985</td>\n",
       "    </tr>\n",
       "    <tr>\n",
       "      <th>853</th>\n",
       "      <td>2020-12-09</td>\n",
       "      <td>43.421669</td>\n",
       "      <td>28.663988</td>\n",
       "      <td>53.715379</td>\n",
       "    </tr>\n",
       "    <tr>\n",
       "      <th>854</th>\n",
       "      <td>2020-12-10</td>\n",
       "      <td>43.476867</td>\n",
       "      <td>28.948556</td>\n",
       "      <td>53.666410</td>\n",
       "    </tr>\n",
       "  </tbody>\n",
       "</table>\n",
       "<p>855 rows × 4 columns</p>\n",
       "</div>"
      ],
      "text/plain": [
       "            ds       yhat  yhat_lower  yhat_upper\n",
       "0   2018-01-02   5.502916    4.204197    6.675456\n",
       "1   2018-01-03   5.527132    4.208872    6.707436\n",
       "2   2018-01-04   5.491289    4.281871    6.658213\n",
       "3   2018-01-05   5.510656    4.371951    6.780093\n",
       "4   2018-01-08   5.464078    4.207032    6.655913\n",
       "..         ...        ...         ...         ...\n",
       "850 2020-12-06  42.710877   29.081907   52.696955\n",
       "851 2020-12-07  43.169253   28.645816   53.267177\n",
       "852 2020-12-08  43.306413   28.302530   53.704985\n",
       "853 2020-12-09  43.421669   28.663988   53.715379\n",
       "854 2020-12-10  43.476867   28.948556   53.666410\n",
       "\n",
       "[855 rows x 4 columns]"
      ]
     },
     "execution_count": 354,
     "metadata": {},
     "output_type": "execute_result"
    }
   ],
   "source": [
    "forecast = my_model.predict(future_dates)\n",
    "forecast[['ds', 'yhat', 'yhat_lower', 'yhat_upper']]"
   ]
  },
  {
   "cell_type": "code",
   "execution_count": 355,
   "metadata": {},
   "outputs": [],
   "source": [
    "#my_model.plot(forecast, uncertainty=True, plot_cap=True)\n"
   ]
  },
  {
   "cell_type": "code",
   "execution_count": 356,
   "metadata": {},
   "outputs": [
    {
     "name": "stderr",
     "output_type": "stream",
     "text": [
      "/Users/basillatif/anaconda3/lib/python3.7/site-packages/ipykernel_launcher.py:3: MatplotlibDeprecationWarning:\n",
      "\n",
      "Adding an axes using the same arguments as a previous axes currently reuses the earlier instance.  In a future version, a new instance will always be created and returned.  Meanwhile, this warning can be suppressed, and the future behavior ensured, by passing a unique label to each axes instance.\n",
      "\n"
     ]
    },
    {
     "data": {
      "text/plain": [
       "Text(66.375, 0.5, 'Close Price')"
      ]
     },
     "execution_count": 356,
     "metadata": {},
     "output_type": "execute_result"
    },
    {
     "data": {
      "image/png": "[encoded data removed]",
      "text/plain": [
       "<Figure size 720x432 with 1 Axes>"
      ]
     },
     "metadata": {},
     "output_type": "display_data"
    }
   ],
   "source": [
    "fig = my_model.plot(forecast)\n",
    "#a = add_changepoints_to_plot(fig.gca(), my_model, forecast)\n",
    "ax1 = fig.add_subplot(111)\n",
    "ax1.set_title(\"AUPH Stock Price Forecast\", fontsize=16)\n",
    "ax1.set_xlabel(\"Date\", fontsize=12)\n",
    "ax1.set_ylabel(\"Close Price\", fontsize=12)\n"
   ]
  },
  {
   "cell_type": "code",
   "execution_count": null,
   "metadata": {},
   "outputs": [],
   "source": []
  },
  {
   "cell_type": "code",
   "execution_count": null,
   "metadata": {},
   "outputs": [],
   "source": []
  },
  {
   "cell_type": "code",
   "execution_count": null,
   "metadata": {},
   "outputs": [],
   "source": []
  }
 ],
 "metadata": {
  "kernelspec": {
   "display_name": "Python 3",
   "language": "python",
   "name": "python3"
  },
  "language_info": {
   "codemirror_mode": {
    "name": "ipython",
    "version": 3
   },
   "file_extension": ".py",
   "mimetype": "text/x-python",
   "name": "python",
   "nbconvert_exporter": "python",
   "pygments_lexer": "ipython3",
   "version": "3.7.3"
  }
 },
 "nbformat": 4,
 "nbformat_minor": 2
}
